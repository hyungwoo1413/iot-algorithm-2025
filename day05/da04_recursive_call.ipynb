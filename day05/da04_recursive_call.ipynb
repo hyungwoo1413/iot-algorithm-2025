{
 "cells": [
  {
   "cell_type": "markdown",
   "metadata": {},
   "source": [
    "#### 재귀호출 Recursive Call\n",
    "\n",
    "<img src=\"https://dojang.io/pluginfile.php/13846/mod_page/content/3/031001.png\" width=\"700\">\n",
    "\n",
    "- 자기자신을 다시 호출하는 함수 호출 방법\n",
    "    - 장점 : 코드를 아주 짧게 작성, 수학을 잘 하면 쉽게 이해\n",
    "    - 단점 : 디버깅이 어렵다, 속도저하, 수학을 못하면 이해가 어렵다..."
   ]
  },
  {
   "cell_type": "code",
   "execution_count": null,
   "metadata": {},
   "outputs": [],
   "source": [
    "count = 0\n",
    "\n",
    "def openBox():\n",
    "    global count\n",
    "    print(f'상자를 엽니다. {count}')\n",
    "    count += 1\n",
    "    openBox() # 재귀호출\n",
    "\n",
    "openBox()"
   ]
  },
  {
   "cell_type": "markdown",
   "metadata": {},
   "source": [
    "- 위의 코드 실행시 count가 2969 정도되면 아래 예외발생\n",
    "    - RecursionError: maximum recursion depth exceeded while calling a Python object\n",
    "    - 파이썬에서는 무한 재귀호출을 방지"
   ]
  },
  {
   "cell_type": "code",
   "execution_count": 11,
   "metadata": {},
   "outputs": [
    {
     "name": "stdout",
     "output_type": "stream",
     "text": [
      "상자를 엽니다. 5\n",
      "상자를 엽니다. 4\n",
      "상자를 엽니다. 3\n",
      "상자를 엽니다. 2\n",
      "상자를 엽니다. 1\n",
      "반지를 넣고 반환\n",
      "상자를 닫습니다\n",
      "상자를 닫습니다\n",
      "상자를 닫습니다\n",
      "상자를 닫습니다\n"
     ]
    }
   ],
   "source": [
    "count = 5\n",
    "\n",
    "def openBox2():\n",
    "    global count\n",
    "    print(f'상자를 엽니다. {count}')\n",
    "    count -= 1\n",
    "    if count == 0:\n",
    "        print('반지를 넣고 반환')\n",
    "        return\n",
    "    \n",
    "    openBox2() # 재귀호출\n",
    "    print(f'상자를 닫습니다')\n",
    "    \n",
    "openBox2()"
   ]
  },
  {
   "cell_type": "markdown",
   "metadata": {},
   "source": [
    "- 재귀호출을 안쓰면"
   ]
  },
  {
   "cell_type": "code",
   "execution_count": 12,
   "metadata": {},
   "outputs": [
    {
     "data": {
      "text/plain": [
       "55"
      ]
     },
     "execution_count": 12,
     "metadata": {},
     "output_type": "execute_result"
    }
   ],
   "source": [
    "sum = 0\n",
    "\n",
    "for i in range(10, 0, -1):\n",
    "    sum += i\n",
    "\n",
    "sum"
   ]
  },
  {
   "cell_type": "markdown",
   "metadata": {},
   "source": [
    "- 재귀호출"
   ]
  },
  {
   "cell_type": "code",
   "execution_count": null,
   "metadata": {},
   "outputs": [
    {
     "data": {
      "text/plain": [
       "55"
      ]
     },
     "execution_count": 15,
     "metadata": {},
     "output_type": "execute_result"
    }
   ],
   "source": [
    "sum = 0\n",
    "\n",
    "def S(n):\n",
    "    if n == 1: \n",
    "        return 1\n",
    "    return n + S(n - 1)\n",
    "\n",
    "S(10)"
   ]
  },
  {
   "cell_type": "markdown",
   "metadata": {},
   "source": [
    "### 팩토리얼\n",
    "- S(n)과 차이는 연산자 +, *\n",
    "- 반복문으로 팩토리얼 구현"
   ]
  },
  {
   "cell_type": "code",
   "execution_count": 30,
   "metadata": {},
   "outputs": [
    {
     "name": "stdout",
     "output_type": "stream",
     "text": [
      "100! = 93326215443944152681699238856266700490715968264381621468592963895217599993229915608941463976156518286253697920827223758251185210916864000000000000000000000000\n"
     ]
    }
   ],
   "source": [
    "num = 100\n",
    "value = 1\n",
    "for n in range(num, 0, -1):\n",
    "    value *= n\n",
    "\n",
    "print(f'{num}! = {value}')"
   ]
  },
  {
   "cell_type": "markdown",
   "metadata": {},
   "source": [
    "- 재귀호출"
   ]
  },
  {
   "cell_type": "code",
   "execution_count": 31,
   "metadata": {},
   "outputs": [
    {
     "name": "stdout",
     "output_type": "stream",
     "text": [
      "100! = 93326215443944152681699238856266700490715968264381621468592963895217599993229915608941463976156518286253697920827223758251185210916864000000000000000000000000\n"
     ]
    }
   ],
   "source": [
    "def factorial(n):\n",
    "    if n <= 1: \n",
    "        return 1\n",
    "    return n * factorial(n - 1)\n",
    "\n",
    "print(f'{num}! = {factorial(num)}')"
   ]
  }
 ],
 "metadata": {
  "kernelspec": {
   "display_name": "Python 3",
   "language": "python",
   "name": "python3"
  },
  "language_info": {
   "codemirror_mode": {
    "name": "ipython",
    "version": 3
   },
   "file_extension": ".py",
   "mimetype": "text/x-python",
   "name": "python",
   "nbconvert_exporter": "python",
   "pygments_lexer": "ipython3",
   "version": "3.11.9"
  }
 },
 "nbformat": 4,
 "nbformat_minor": 2
}
